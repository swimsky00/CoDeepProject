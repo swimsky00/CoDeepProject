{
  "cells": [
    {
      "cell_type": "markdown",
      "metadata": {},
      "source": [
        "## Mount\n",
        "- 혹시 colab에서 돌려보게 되면 주석 풀고 ㄱㄱ"
      ]
    },
    {
      "cell_type": "code",
      "execution_count": 4,
      "metadata": {
        "colab": {
          "base_uri": "https://localhost:8080/"
        },
        "id": "eSxk3q39YCal",
        "outputId": "5674690c-b43b-482a-c6c3-5e320a1ea6d7"
      },
      "outputs": [
        {
          "name": "stdout",
          "output_type": "stream",
          "text": [
            "Mounted at /content/drive\n"
          ]
        }
      ],
      "source": [
        "# from google.colab import drive\n",
        "# drive.mount('/content/drive')"
      ]
    },
    {
      "cell_type": "markdown",
      "metadata": {},
      "source": [
        "## Import"
      ]
    },
    {
      "cell_type": "code",
      "execution_count": 5,
      "metadata": {
        "id": "rlzbo2BGX5Tw"
      },
      "outputs": [],
      "source": [
        "import pandas as pd\n",
        "import numpy as np\n",
        "# for문 진행상황 확인용\n",
        "from tqdm import tqdm \n",
        "# 한국어 텍스트 분석 라이브러리. 참고로 vscode에서 깔려면 java.. 뭐시기 환경 설정해야해서 colab 고\n",
        "from konlpy.tag import Okt \n",
        "#문자열 전처리 라이브러리\n",
        "import re \n",
        "from collections import Counter "
      ]
    },
    {
      "cell_type": "markdown",
      "metadata": {},
      "source": [
        "## Data\n",
        "- 경로가 colab 기준으로 되어있어서 각자 경로로 변경\n",
        "- 데이터도 몇차 데이터임 ㅋㅋ 그것 또한 변경"
      ]
    },
    {
      "cell_type": "code",
      "execution_count": 6,
      "metadata": {
        "id": "A0rCJumEX5T0"
      },
      "outputs": [],
      "source": [
        "train = pd.read_csv(\"/content/drive/MyDrive/강석호교수님.csv\")\n",
        "test = pd.read_csv(\"/content/drive/MyDrive/강명인교수님 (2).csv\")"
      ]
    },
    {
      "cell_type": "markdown",
      "metadata": {},
      "source": [
        "## Dictionary & Scoring Matrix\n",
        "- X(STT 결과)와 True y(진짜 자막 단 것)을 비교해가면서 {잘못 발음된 단어:진짜 단어} 형태의 사전 구축\n",
        "- Train 데이터에 나오는 모든 X 데이터의 단어 별로 얼마나 잘 맞췄는지를 scoring 해서 사전 구축\n",
        "    - 규칙기반으로 가기 때문에 inference 데이터가 들어오면 규칙에 맞게 적용을 시켜줘야 하는데 모든 단어를 다 바꿔주기에는 시간이 오래 걸림\n",
        "    - 특별한 단어(전공 단어)가 문제지 일상 언어에 대해서는 정확도가 매우 높으므로 굳이 바꿔줄 필요가 없음 -> 한 마디로 특정 주제에 대해 정확도를 높여주는 전문가를 만들어준다고 생각하자"
      ]
    },
    {
      "cell_type": "code",
      "execution_count": 7,
      "metadata": {
        "id": "XeY1f_fw_UNx"
      },
      "outputs": [],
      "source": [
        "total_word = [word for sentence in train['X'] for word in sentence.split()] # train X 데이터를 모두 띄어쓰기 단위로 쪼개서 list에 저장(중복 포함)\n",
        "count_word = Counter(total_word) # {단어:데이터에서 해당 단어가 등장한 횟수}\n",
        "unique_word = list(set([word for sentence in train['X'] for word in sentence.split()])) # list -> set -> list로 바꿔서 중복을 제거하고 list로 만듦\n",
        "\n",
        "score = np.zeros(len(unique_word),) # [0,0,0, ..] 으로 이루어진 matrix인데 전체 단어 종류만큼 열이 존재\n",
        "word_idx = {word:idx for idx, word in enumerate(unique_word)} # {단어:matrix에서의 위치}\n",
        "original = np.array([count_word[word] for word in unique_word]) # 나중에 score을 [0,1] 사이를 갖게 하기 위해 단어의 총 등장 횟수를 matrix(score과 동일한 size)로 저장"
      ]
    },
    {
      "cell_type": "code",
      "execution_count": 8,
      "metadata": {
        "colab": {
          "base_uri": "https://localhost:8080/"
        },
        "id": "R5rXci6WX5T1",
        "outputId": "ac340b2b-efbd-4ec4-c7c3-93d9b26897d6"
      },
      "outputs": [
        {
          "name": "stderr",
          "output_type": "stream",
          "text": [
            "100%|██████████| 805/805 [00:00<00:00, 21136.81it/s]\n"
          ]
        }
      ],
      "source": [
        "# 발음대로 기록된 것과 실제는 다름 -> 구어를 바로 텍스트로 변환한 것의 특징상 띄어쓰기로 나눴을 때 X와 True y의 길이가 달라짐\n",
        "lower_list = []\n",
        "same_list = []\n",
        "higher_list = []\n",
        "for i in tqdm(range(len(train))):\n",
        "    X_train = [word for word in train.loc[i,'X'].split()]\n",
        "    y_train = [word for word in train.loc[i,'y'].split()]\n",
        "    if len(X_train) > len(y_train): # ex) ['함', '문'] -> ['학문']\n",
        "      lower_list.append(i)\n",
        "    elif (X_train != y_train) and (len(X_train) == len(y_train)): # ex) ['뉴로이넷'] -> ['뉴럴네트워크']\n",
        "      same_list.append(i)\n",
        "    elif len(X_train) < len(y_train): # ex) ['변환', '한', '것'] -> ['변환한', '것']\n",
        "      higher_list.append(i)\n",
        "    elif X_train == y_train: \n",
        "      for word in X_train:\n",
        "        score[word_idx[word]] += 1 # X와 True y가 일치하면 score 1점 줌"
      ]
    },
    {
      "cell_type": "code",
      "execution_count": 9,
      "metadata": {
        "id": "y239I7snX5T2"
      },
      "outputs": [],
      "source": [
        "# 케이스별로 나눈 데이터를 데이터프레임 형태로 바꾸고 index도 정렬\n",
        "lower_df = train[train.index.isin(lower_list)].reset_index(drop=True)\n",
        "same_df = train[train.index.isin(same_list)].reset_index(drop=True)\n",
        "higher_df = train[train.index.isin(higher_list)].reset_index(drop=True)"
      ]
    },
    {
      "cell_type": "code",
      "execution_count": 230,
      "metadata": {
        "id": "0VrC4iFXX5T3"
      },
      "outputs": [],
      "source": [
        "key_list = []\n",
        "value_list = []\n",
        "\n",
        "# X와 True y가 일대일 대응\n",
        "for idx in range(len(same_df)):\n",
        "    arr1 = np.array([word for word in same_df.loc[idx, 'X'].split()])\n",
        "    arr2 = np.array([word for word in same_df.loc[idx, 'y'].split()])\n",
        "    wrong = arr1[arr1!=arr2] # 틀린 단어 \n",
        "    right = arr1[arr1==arr2] # 맞는 단어\n",
        "    correction = arr2[arr1!=arr2] # 틀린 단어의 원래 정답\n",
        "    for i in range(len(wrong)):\n",
        "      key_list.append(wrong[i]) # 틀린 단어는 추후 사전의 key\n",
        "      value_list.append(correction[i]) # 원래 정답은 추후 사전의 value\n",
        "    for k in range(len(right)):\n",
        "      score[word_idx[right[k]]] += 1 # 맞은 단어는 score 1점씩 또 줌\n",
        "\n",
        "correction_dict = dict(zip(key_list, value_list)) # {틀린 단어:원래 정답}으로 딕셔너리"
      ]
    },
    {
      "cell_type": "code",
      "execution_count": 231,
      "metadata": {
        "id": "eeVw8JVFX5T3"
      },
      "outputs": [],
      "source": [
        "# ['함', '문'] -> ['학문']과 같이 하나의 단어가 두 개 이상의 단어로 나눠져서 STT 출력됨\n",
        "for idx in range(len(lower_df)):\n",
        "    list1 = [word for word in lower_df.loc[idx,'X'].split()]\n",
        "    list2 = [word for word in lower_df.loc[idx,'y'].split()]\n",
        "    intersection = list(set(list1).intersection(set(list2))) # X와 True y의 교집합\n",
        "    wrong = lower_df.loc[idx,'X'] # 우선 X 한 문장 가져옴\n",
        "    correction = lower_df.loc[idx,'y'] # y도 한 문장 가져옴\n",
        "    for i in intersection: # 교집합 단어(맞게 출력한 단어)에 대해서\n",
        "        if i in wrong: \n",
        "            wrong = wrong.replace(i, \"\") # X 문장에 맞게 출력한 단어는 없애버림\n",
        "        if i in correction:\n",
        "            correction = correction.replace(i, \"\") # y 문장에 맞게 출력한 단어는 없애버림\n",
        "        score[word_idx[i]] += 1 # 교집합은 맞게 출력한 단어니 또 1점씩 \n",
        "\n",
        "    if len(list(filter(None, wrong.split(\"  \")))) == len(list(filter(None, correction.split(\"  \")))): # [\"할 수\"] -> [\"함수\"]와 같이 \"할 수\"가 하나로 묶였는지 확인\n",
        "        for k in range(len(list(filter(None, wrong.split(\"  \"))))):\n",
        "            correction_dict[list(filter(None, wrong.split(\"  \")))[k]] = list(filter(None, correction.split(\"  \")))[k] # {\"할 수\":\"함수\"}로 correction_dict에 추가\n"
      ]
    },
    {
      "cell_type": "code",
      "execution_count": 232,
      "metadata": {
        "id": "9krkaCMeX5T4"
      },
      "outputs": [],
      "source": [
        "# 위랑 똑같은 방식으로 함. 대신 [\"함수\"] -> [\"할\", \"수\"] 이런 데이터를 대상으로\n",
        "for idx in range(len(higher_df)):\n",
        "    list1 = [word for word in higher_df.loc[idx,'X'].split()]\n",
        "    list2 = [word for word in higher_df.loc[idx,'y'].split()]\n",
        "    intersection = list(set(list1).intersection(set(list2)))\n",
        "    wrong = higher_df.loc[idx,'X']\n",
        "    correction = higher_df.loc[idx,'y']\n",
        "    for i in intersection:\n",
        "        if i in wrong:\n",
        "            wrong = wrong.replace(i, \"\")\n",
        "        if i in correction:\n",
        "            correction = correction.replace(i, \"\")\n",
        "        score[word_idx[i]] += 1\n",
        "\n",
        "    if len(list(filter(None, wrong.split(\"  \")))) == len(list(filter(None, correction.split(\"  \")))):\n",
        "        for k in range(len(list(filter(None, wrong.split(\"  \"))))):\n",
        "            correction_dict[list(filter(None, wrong.split(\"  \")))[k]] = list(filter(None, correction.split(\"  \")))[k]"
      ]
    },
    {
      "cell_type": "markdown",
      "metadata": {
        "id": "G6eKx2hqYa4a"
      },
      "source": [
        "## 딕셔너리의 범용성을 높이기 위한 과정\n",
        "- 현재 사전에는 \"뉴럴렛\", \"뉴럴렛이\", \"뉴럴렛은\" 이런 애들이 다 들어가 있어서 \"뉴럴렛\"으로 대표할 수 있게끔 만들어주는 것\n",
        "- 최대한 기존의 구축되어 있는 Okt 한국어 라이브러리를 사용하고 싶었지만 영어랑 섞여있거나 그냥 잘 못해줄 때가 많음 -> 규칙기반으로 좀 더 조건은 걸었지만 그래도 완벽하지는 못함\n",
        "    - !!!!!!!!!!!! 어쨌든 전처리 과정을 거쳐 최대한의 명사만 넣어놨는데 규칙기반으로 바꿔버리다 보니 inference 단계에서 조사를 다 빼먹어버림 ..\n",
        "    - 우선은 안 돌렸다. 추가 실험을 해볼지도 .."
      ]
    },
    {
      "cell_type": "code",
      "execution_count": 233,
      "metadata": {
        "id": "TeNdJASbYaU3"
      },
      "outputs": [],
      "source": [
        "okt = Okt() # 한국어 라이브러리 불러오기 "
      ]
    },
    {
      "cell_type": "code",
      "execution_count": 235,
      "metadata": {
        "id": "1IJPWAH1YjY5"
      },
      "outputs": [],
      "source": [
        "new_key_list = []\n",
        "new_value_list = []\n",
        "\n",
        "for idx in range(len(correction_dict)):\n",
        "\n",
        "  key = list(correction_dict.keys())[0] # key를 하나 뽑아오자\n",
        "  value = correction_dict[key] # key에 맞는 value도 뽑음\n",
        "  del correction_dict[key] # key와 value를 전처리해서 다시 넣을 것이기 때문에 기존의 key와 value는 제거\n",
        "\n",
        "  # 영어, 한국어 제외 문자 제거\n",
        "  key = re.sub('[^a-zA-Z가-힣]',' ',key) \n",
        "  value = re.sub('[^a-zA-Z가-힣]',' ',value)\n",
        "\n",
        "  # 조사를 없애기 위한 노력 .. -> okt.morphs는 형태소 분석이라 [\"자막\", \"이\"]로 출력 + okt.nouns는 명사만 뽑아서 [\"자막\"] 출력 -> set로 만들어 차집합 해버리면 (\"이\")만 남음\n",
        "  key_side = set(okt.morphs(key)) - set(okt.nouns(key))\n",
        "  value_side = set(okt.morphs(value)) - set(okt.nouns(value))\n",
        "\n",
        "  # {\"리그레이션이\":\"리그레션이\"} 이런식으로 조사가 발음에 영향을 미치지 않는 경우만 고려하기 위함(예외: {\"논리니와\":\"논리니어\"} -> \"와\"가 조사로 빠지지만 실제 조사로 쓰인게 아니라 발음상의 결과)\n",
        "  if key_side == value_side:\n",
        "    for i in range(len(key_side)):\n",
        "      key = key.replace(list(key_side)[i], \"\") # key에서 조사 제거\n",
        "      value = value.replace(list(value_side)[i], \"\") # value에서 조사 제거\n",
        "\n",
        "  new_key_list.append(key) \n",
        "  new_value_list.append(value)\n",
        "\n",
        "correction_dict = dict(zip(new_key_list, new_value_list)) # 전처리 완료된 key와 value를 다시 dictioinary로\n"
      ]
    },
    {
      "cell_type": "code",
      "execution_count": 190,
      "metadata": {
        "id": "N6g6rGrD6YDK"
      },
      "outputs": [],
      "source": [
        "del_list = []\n",
        "\n",
        "# [\"뉴럴렛\", \"뉴럴렛이\", \"뉴럴렛과\"] -> [\"뉴럴렛\"] 위 과정을 거쳐도 조사가 여전히 붙어있기도 하고, list를 dictionary에 넣다보니 중복되기도 함\n",
        "for key in list(correction_dict.keys()): # key를 하나 뽑자\n",
        "  for other in list(set(correction_dict.keys())-set(key)): # 뽑았던 key를 제외하고 다른 key(other)를 뽑자\n",
        "    if (other.find(key) != -1) and (key != other) and (key != \" \"): # other(\"뉴럴렛이\")이 key(\"뉴럴렛\")를 포함하고 있는지 확인\n",
        "      del_list.append(other) # \"뉴럴렛\"이 있으므로 \"뉴럴렛이\"는 젝"
      ]
    },
    {
      "cell_type": "code",
      "execution_count": 191,
      "metadata": {
        "id": "K2haL5248A4A"
      },
      "outputs": [],
      "source": [
        "for del_key in del_list:\n",
        "  try:\n",
        "    del correction_dict[del_key] # dictionary에서 조사가 붙은 놈들은 없애주세요\n",
        "  except:\n",
        "    continue"
      ]
    },
    {
      "cell_type": "markdown",
      "metadata": {
        "id": "ermfmNubX5T6"
      },
      "source": [
        "## Correction"
      ]
    },
    {
      "cell_type": "code",
      "execution_count": 192,
      "metadata": {
        "id": "hY9gF8asFRPr"
      },
      "outputs": [],
      "source": [
        "normalize = score/original # X와 True y를 비교하면서 맞게 출력된 단어들은 점수를 줬음 -> 전체 등장 횟수로 나눠서 normalized score\n",
        "# 참고로 normalized score을 histogram으로 찍어봤는데 한번씩 등장한 단어들이 많기도 하고, 일상어는 대체적으로 잘 맞춰서 score=1이 압도적으로 많음. 그 다음은 아예 0. 사잇값들도 있긴 한데 매우 적음\n",
        "score_dict = dict(zip(unique_word, normalize)) # {단어:score}"
      ]
    },
    {
      "cell_type": "code",
      "execution_count": 270,
      "metadata": {
        "id": "LREvAeFUIK9G"
      },
      "outputs": [],
      "source": [
        "from difflib import get_close_matches # 비슷한 문자열 찾는 파이썬 내장 모듈\n",
        "\n",
        "candidate1 = list(score_dict.keys()) # 전체 train 데이터의 단어\n",
        "candidate2 = list(correction_dict.keys()) # 수정이 필요할 단어 후보들\n",
        "\n",
        "n=1 # 가장 비슷한 단어 하나만\n",
        "\n",
        "# 비슷할 확률이 0.7 이상인 애들만(만약 모든 후보들이 0.7을 못 넘으면 빈 list 출력)\n",
        "cutoff1 = 0.7\n",
        "cutoff2 = 0.7"
      ]
    },
    {
      "cell_type": "code",
      "execution_count": 274,
      "metadata": {
        "colab": {
          "base_uri": "https://localhost:8080/"
        },
        "id": "hpHWEzQuaFRD",
        "outputId": "01c1edab-b6b5-491d-d664-27ebf0e17779"
      },
      "outputs": [
        {
          "name": "stderr",
          "output_type": "stream",
          "text": [
            "100%|██████████| 648/648 [00:20<00:00, 31.36it/s]\n"
          ]
        }
      ],
      "source": [
        "inference_list = []\n",
        "for sentence in tqdm(test['X']): # Inference하고자 하는 데이터에서 문장 하나씩 가져오자\n",
        "  tokenizer = sentence.split() # 띄어쓰기 단어로 쪼개서 list 만들자\n",
        "  for token in tokenizer: # 문장의 단어 하나씩 가져오자\n",
        "    try: \n",
        "      # 우리가 STT 정확도를 알고 있는 단어거나 알고 있는 단어 중에서 가장 비슷한 단어의 추정 정확도가 1이면 출력된 문장 그대로 가자\n",
        "      if score_dict[get_close_matches(token, candidate1, n, cutoff1)[0]]==1: \n",
        "        sentence = sentence\n",
        "      # 우리가 STT 정확도를 알고 있는 단어거나 알고 있는 단어 중에서 가장 비슷한 단어의 추정 정확도가 1 이하면 교정을 하자\n",
        "      elif (score_dict[get_close_matches(token, candidate1, n, cutoff1)[0]]!=1):\n",
        "        sentence = sentence.replace(token, correction_dict[get_close_matches(token, candidate1, n, cutoff1)[0]])\n",
        "\n",
        "    except: # except의 이유는 위 elif에서 correctoin_dict의 key 위치로 들어오는 단어가 correction_dict에 없을 수도 있음 혹은 cutoff를 넘는 단어가 없어서 빈 list를 반환했거나\n",
        "      try: # 그렇다면 correction_dict의 key 중에서 가장 유사한 애를 직접적으로 뽑아 대체하자(정확도가 떨어질 수 밖에)\n",
        "        sentence = sentence.replace(token, correction_dict[get_close_matches(token, candidate2, n, cutoff2)[0]])\n",
        "      except: # correction_dict의 key와 유사도에서도 cutoff를 넘긴 단어가 없으면 그냥 원본 그대로 쓰자\n",
        "        sentence = sentence\n",
        "\n",
        "  inference_list.append(sentence)"
      ]
    },
    {
      "cell_type": "code",
      "execution_count": 275,
      "metadata": {
        "id": "x1hkgmguX5T9"
      },
      "outputs": [],
      "source": [
        "correction = pd.DataFrame(inference_list, columns=[\"correction\"])\n",
        "\n",
        "total = pd.concat([test['X'],test['y'],correction], axis=1) # X, True y, y hat"
      ]
    },
    {
      "cell_type": "code",
      "execution_count": 276,
      "metadata": {
        "colab": {
          "base_uri": "https://localhost:8080/",
          "height": 441
        },
        "id": "y_-ZUx-OX5T-",
        "outputId": "2b8aace2-4489-4c1c-b231-ee437f5ed40c"
      },
      "outputs": [
        {
          "data": {
            "application/vnd.google.colaboratory.intrinsic+json": {
              "summary": "{\n  \"name\": \"total\",\n  \"rows\": 648,\n  \"fields\": [\n    {\n      \"column\": \"X\",\n      \"properties\": {\n        \"dtype\": \"string\",\n        \"num_unique_values\": 640,\n        \"samples\": [\n          \"\\uc774\\ub7f0 \\uac83\\ub4e4\\uc744 \\uc774\\uc81c \\uc120\\ud0dd\\ud560 \\uc218 \\uc788\\uace0 \\uc0ac\\uc774\\ud0a8\\ub7f0\\uc5d0\\uc11c\\ub294\",\n          \"\\uc774\\uc81c \\uc61b\\ub0a0\\uc5d0\\ub294 \\ud150\\uc5d0\\uc774\\uce20\\uac00 \\uac00\\uc7a5 \\ub9ce\\uc774 \\uc0ac\\uc6a9\\uc774 \\ub418\\uc5c8\\ub2e4\\uace0 \\ud558\\ub294\\ub370\\uc694\",\n          \"\\ub7f0 \\ub9ac\\ub2c8\\uc5b4\\ub9ac\"\n        ],\n        \"semantic_type\": \"\",\n        \"description\": \"\"\n      }\n    },\n    {\n      \"column\": \"y\",\n      \"properties\": {\n        \"dtype\": \"string\",\n        \"num_unique_values\": 642,\n        \"samples\": [\n          \"\\uadf8\\ub7f0 \\uac1c\\uc218\\ub97c \\uc870\\uc815\\ud560 \\uc218 \\uc788\\ub294 \\ubd80\\ubd84\\uc778\\ub370\",\n          \"\\ucd94\\uac00\\ud574 \\uc8fc\\ub294 \\uac83\\uc774 \\ub418\\uaca0\\ub294\\ub370\",\n          \"\\uadf8\\ub798\\uc11c \\uc774 \\ubc14\\uc774\\ub108\\ub9ac \\ud06c\\ub85c\\uc2a4 \\uc5d4\\ud2b8\\ub85c\\ud53c\\ub77c\\ub294 \\ub85c\\uc2a4\\ub97c \\uc0ac\\uc6a9\\uc744 \\ud558\\uac8c \\ub429\\ub2c8\\ub2e4\"\n        ],\n        \"semantic_type\": \"\",\n        \"description\": \"\"\n      }\n    },\n    {\n      \"column\": \"correction\",\n      \"properties\": {\n        \"dtype\": \"string\",\n        \"num_unique_values\": 640,\n        \"samples\": [\n          \"\\uc774\\ub7f0 \\uac83\\ub4e4\\uc744 \\uc774\\uc81c \\uc120\\ud0dd\\ud560 \\uc218 \\uc788\\uace0 \\uc0ac\\uc774\\ud0a8\\ub7f0\\uc5d0\\uc11c\\ub294\",\n          \"\\uc774\\uc81c \\uc61b\\ub0a0\\uc5d0\\ub294 \\ud150\\uc5d0\\uc774\\uce20\\uac00 \\uac00\\uc7a5 \\ub9ce\\uc774 \\uc0ac\\uc6a9\\uc774 \\ub418\\uc5c8\\ub2e4\\uace0 \\ud558\\ub294\\ub370\\uc694\",\n          \"\\ub7f0 \\ub9ac\\ub2c8\\uc5b4\\ub9ac\"\n        ],\n        \"semantic_type\": \"\",\n        \"description\": \"\"\n      }\n    }\n  ]\n}",
              "type": "dataframe",
              "variable_name": "total"
            },
            "text/html": [
              "\n",
              "  <div id=\"df-284ec7ed-1b6b-4bef-b7ba-4083b19ebddb\" class=\"colab-df-container\">\n",
              "    <div>\n",
              "<style scoped>\n",
              "    .dataframe tbody tr th:only-of-type {\n",
              "        vertical-align: middle;\n",
              "    }\n",
              "\n",
              "    .dataframe tbody tr th {\n",
              "        vertical-align: top;\n",
              "    }\n",
              "\n",
              "    .dataframe thead th {\n",
              "        text-align: right;\n",
              "    }\n",
              "</style>\n",
              "<table border=\"1\" class=\"dataframe\">\n",
              "  <thead>\n",
              "    <tr style=\"text-align: right;\">\n",
              "      <th></th>\n",
              "      <th>X</th>\n",
              "      <th>y</th>\n",
              "      <th>correction</th>\n",
              "    </tr>\n",
              "  </thead>\n",
              "  <tbody>\n",
              "    <tr>\n",
              "      <th>0</th>\n",
              "      <td>안녕하세요 데이터과학을 위한 프로그래밍 수강생 여러분</td>\n",
              "      <td>안녕하세요 데이터과학을 위한 프로그래밍 수강생 여러분</td>\n",
              "      <td>안녕하세요 데이터과학을 위한 프로그래밍 수강생 여러분</td>\n",
              "    </tr>\n",
              "    <tr>\n",
              "      <th>1</th>\n",
              "      <td>오늘 슈퍼바이스러닝 다섯번째 시간 시작하도록 하겠습니다</td>\n",
              "      <td>오늘 슈퍼바이스러닝 다섯번째 시간 시작하도록 하겠습니다</td>\n",
              "      <td>오늘 슈퍼바이스러닝 다섯번째 시간 시작하도록 하겠습니다</td>\n",
              "    </tr>\n",
              "    <tr>\n",
              "      <th>2</th>\n",
              "      <td>오늘 할 내용은 뉴로이 네트워크 이구요</td>\n",
              "      <td>오늘 할 내용은 뉴럴 네트워크 이구요</td>\n",
              "      <td>오늘 할 내용은 뉴로이 network 이구요</td>\n",
              "    </tr>\n",
              "    <tr>\n",
              "      <th>3</th>\n",
              "      <td>원래 서포트 벡터 머신이 먼저 나와 있는데</td>\n",
              "      <td>원래 서포트 벡터 머신이 먼저 나와 있는데</td>\n",
              "      <td>원래 서포트 벡터 머신이 먼저 나와 있는데</td>\n",
              "    </tr>\n",
              "    <tr>\n",
              "      <th>4</th>\n",
              "      <td>순서를 바꿔서 인공신경망, 뉴로이 네트워크에 관련된 내용부터 진행하도록 하겠습니다</td>\n",
              "      <td>순서를 바꿔서 인공신경망, 뉴로이 네트워크에 관련된 내용부터 진행하도록 하겠습니다</td>\n",
              "      <td>순서를 바꿔서 인공신경망, 뉴로이 network 관련된 내용부터 진행하도록 하겠습니다</td>\n",
              "    </tr>\n",
              "    <tr>\n",
              "      <th>...</th>\n",
              "      <td>...</td>\n",
              "      <td>...</td>\n",
              "      <td>...</td>\n",
              "    </tr>\n",
              "    <tr>\n",
              "      <th>643</th>\n",
              "      <td>조금 더 빠르게 수렴할 수 수렴시킬 수 있고</td>\n",
              "      <td>조금 더 빠르게 수렴할 수 수렴시킬 수 있고</td>\n",
              "      <td>조금 더 빠르게 수렴할 수 수렴시킬 수 있고</td>\n",
              "    </tr>\n",
              "    <tr>\n",
              "      <th>644</th>\n",
              "      <td>그리고 성능도 좋을 수 있다 라는 일반적인 이야기가 있고요</td>\n",
              "      <td>그리고 성능도 좋을 수 있다 라는 일반적인 이야기가 있고요</td>\n",
              "      <td>그리고 성능도 좋을 수 있다 라는 일반적인 이야기가 있고요</td>\n",
              "    </tr>\n",
              "    <tr>\n",
              "      <th>645</th>\n",
              "      <td>그런데 이제 사실 만약에 사이클론 말고</td>\n",
              "      <td>그런데 이제 사실 만약에 사이킷런 말고</td>\n",
              "      <td>그런데 이제 사실 만약에 사이킷런 말고</td>\n",
              "    </tr>\n",
              "    <tr>\n",
              "      <th>646</th>\n",
              "      <td>여러분이 뭔가 좀 더 텐서플로우나</td>\n",
              "      <td>여러분이 뭔가 좀 더 텐서플로우나</td>\n",
              "      <td>여러분이 뭔가 좀 더 텐서플로우나</td>\n",
              "    </tr>\n",
              "    <tr>\n",
              "      <th>647</th>\n",
              "      <td>스포츠 같은 거 사용해서</td>\n",
              "      <td>파이토치 같은 거 사용해서</td>\n",
              "      <td>스포츠 같은 거 사용해서</td>\n",
              "    </tr>\n",
              "  </tbody>\n",
              "</table>\n",
              "<p>648 rows × 3 columns</p>\n",
              "</div>\n",
              "    <div class=\"colab-df-buttons\">\n",
              "\n",
              "  <div class=\"colab-df-container\">\n",
              "    <button class=\"colab-df-convert\" onclick=\"convertToInteractive('df-284ec7ed-1b6b-4bef-b7ba-4083b19ebddb')\"\n",
              "            title=\"Convert this dataframe to an interactive table.\"\n",
              "            style=\"display:none;\">\n",
              "\n",
              "  <svg xmlns=\"http://www.w3.org/2000/svg\" height=\"24px\" viewBox=\"0 -960 960 960\">\n",
              "    <path d=\"M120-120v-720h720v720H120Zm60-500h600v-160H180v160Zm220 220h160v-160H400v160Zm0 220h160v-160H400v160ZM180-400h160v-160H180v160Zm440 0h160v-160H620v160ZM180-180h160v-160H180v160Zm440 0h160v-160H620v160Z\"/>\n",
              "  </svg>\n",
              "    </button>\n",
              "\n",
              "  <style>\n",
              "    .colab-df-container {\n",
              "      display:flex;\n",
              "      gap: 12px;\n",
              "    }\n",
              "\n",
              "    .colab-df-convert {\n",
              "      background-color: #E8F0FE;\n",
              "      border: none;\n",
              "      border-radius: 50%;\n",
              "      cursor: pointer;\n",
              "      display: none;\n",
              "      fill: #1967D2;\n",
              "      height: 32px;\n",
              "      padding: 0 0 0 0;\n",
              "      width: 32px;\n",
              "    }\n",
              "\n",
              "    .colab-df-convert:hover {\n",
              "      background-color: #E2EBFA;\n",
              "      box-shadow: 0px 1px 2px rgba(60, 64, 67, 0.3), 0px 1px 3px 1px rgba(60, 64, 67, 0.15);\n",
              "      fill: #174EA6;\n",
              "    }\n",
              "\n",
              "    .colab-df-buttons div {\n",
              "      margin-bottom: 4px;\n",
              "    }\n",
              "\n",
              "    [theme=dark] .colab-df-convert {\n",
              "      background-color: #3B4455;\n",
              "      fill: #D2E3FC;\n",
              "    }\n",
              "\n",
              "    [theme=dark] .colab-df-convert:hover {\n",
              "      background-color: #434B5C;\n",
              "      box-shadow: 0px 1px 3px 1px rgba(0, 0, 0, 0.15);\n",
              "      filter: drop-shadow(0px 1px 2px rgba(0, 0, 0, 0.3));\n",
              "      fill: #FFFFFF;\n",
              "    }\n",
              "  </style>\n",
              "\n",
              "    <script>\n",
              "      const buttonEl =\n",
              "        document.querySelector('#df-284ec7ed-1b6b-4bef-b7ba-4083b19ebddb button.colab-df-convert');\n",
              "      buttonEl.style.display =\n",
              "        google.colab.kernel.accessAllowed ? 'block' : 'none';\n",
              "\n",
              "      async function convertToInteractive(key) {\n",
              "        const element = document.querySelector('#df-284ec7ed-1b6b-4bef-b7ba-4083b19ebddb');\n",
              "        const dataTable =\n",
              "          await google.colab.kernel.invokeFunction('convertToInteractive',\n",
              "                                                    [key], {});\n",
              "        if (!dataTable) return;\n",
              "\n",
              "        const docLinkHtml = 'Like what you see? Visit the ' +\n",
              "          '<a target=\"_blank\" href=https://colab.research.google.com/notebooks/data_table.ipynb>data table notebook</a>'\n",
              "          + ' to learn more about interactive tables.';\n",
              "        element.innerHTML = '';\n",
              "        dataTable['output_type'] = 'display_data';\n",
              "        await google.colab.output.renderOutput(dataTable, element);\n",
              "        const docLink = document.createElement('div');\n",
              "        docLink.innerHTML = docLinkHtml;\n",
              "        element.appendChild(docLink);\n",
              "      }\n",
              "    </script>\n",
              "  </div>\n",
              "\n",
              "\n",
              "<div id=\"df-983e25ea-9858-4cc6-8364-79a9d97bc4f1\">\n",
              "  <button class=\"colab-df-quickchart\" onclick=\"quickchart('df-983e25ea-9858-4cc6-8364-79a9d97bc4f1')\"\n",
              "            title=\"Suggest charts\"\n",
              "            style=\"display:none;\">\n",
              "\n",
              "<svg xmlns=\"http://www.w3.org/2000/svg\" height=\"24px\"viewBox=\"0 0 24 24\"\n",
              "     width=\"24px\">\n",
              "    <g>\n",
              "        <path d=\"M19 3H5c-1.1 0-2 .9-2 2v14c0 1.1.9 2 2 2h14c1.1 0 2-.9 2-2V5c0-1.1-.9-2-2-2zM9 17H7v-7h2v7zm4 0h-2V7h2v10zm4 0h-2v-4h2v4z\"/>\n",
              "    </g>\n",
              "</svg>\n",
              "  </button>\n",
              "\n",
              "<style>\n",
              "  .colab-df-quickchart {\n",
              "      --bg-color: #E8F0FE;\n",
              "      --fill-color: #1967D2;\n",
              "      --hover-bg-color: #E2EBFA;\n",
              "      --hover-fill-color: #174EA6;\n",
              "      --disabled-fill-color: #AAA;\n",
              "      --disabled-bg-color: #DDD;\n",
              "  }\n",
              "\n",
              "  [theme=dark] .colab-df-quickchart {\n",
              "      --bg-color: #3B4455;\n",
              "      --fill-color: #D2E3FC;\n",
              "      --hover-bg-color: #434B5C;\n",
              "      --hover-fill-color: #FFFFFF;\n",
              "      --disabled-bg-color: #3B4455;\n",
              "      --disabled-fill-color: #666;\n",
              "  }\n",
              "\n",
              "  .colab-df-quickchart {\n",
              "    background-color: var(--bg-color);\n",
              "    border: none;\n",
              "    border-radius: 50%;\n",
              "    cursor: pointer;\n",
              "    display: none;\n",
              "    fill: var(--fill-color);\n",
              "    height: 32px;\n",
              "    padding: 0;\n",
              "    width: 32px;\n",
              "  }\n",
              "\n",
              "  .colab-df-quickchart:hover {\n",
              "    background-color: var(--hover-bg-color);\n",
              "    box-shadow: 0 1px 2px rgba(60, 64, 67, 0.3), 0 1px 3px 1px rgba(60, 64, 67, 0.15);\n",
              "    fill: var(--button-hover-fill-color);\n",
              "  }\n",
              "\n",
              "  .colab-df-quickchart-complete:disabled,\n",
              "  .colab-df-quickchart-complete:disabled:hover {\n",
              "    background-color: var(--disabled-bg-color);\n",
              "    fill: var(--disabled-fill-color);\n",
              "    box-shadow: none;\n",
              "  }\n",
              "\n",
              "  .colab-df-spinner {\n",
              "    border: 2px solid var(--fill-color);\n",
              "    border-color: transparent;\n",
              "    border-bottom-color: var(--fill-color);\n",
              "    animation:\n",
              "      spin 1s steps(1) infinite;\n",
              "  }\n",
              "\n",
              "  @keyframes spin {\n",
              "    0% {\n",
              "      border-color: transparent;\n",
              "      border-bottom-color: var(--fill-color);\n",
              "      border-left-color: var(--fill-color);\n",
              "    }\n",
              "    20% {\n",
              "      border-color: transparent;\n",
              "      border-left-color: var(--fill-color);\n",
              "      border-top-color: var(--fill-color);\n",
              "    }\n",
              "    30% {\n",
              "      border-color: transparent;\n",
              "      border-left-color: var(--fill-color);\n",
              "      border-top-color: var(--fill-color);\n",
              "      border-right-color: var(--fill-color);\n",
              "    }\n",
              "    40% {\n",
              "      border-color: transparent;\n",
              "      border-right-color: var(--fill-color);\n",
              "      border-top-color: var(--fill-color);\n",
              "    }\n",
              "    60% {\n",
              "      border-color: transparent;\n",
              "      border-right-color: var(--fill-color);\n",
              "    }\n",
              "    80% {\n",
              "      border-color: transparent;\n",
              "      border-right-color: var(--fill-color);\n",
              "      border-bottom-color: var(--fill-color);\n",
              "    }\n",
              "    90% {\n",
              "      border-color: transparent;\n",
              "      border-bottom-color: var(--fill-color);\n",
              "    }\n",
              "  }\n",
              "</style>\n",
              "\n",
              "  <script>\n",
              "    async function quickchart(key) {\n",
              "      const quickchartButtonEl =\n",
              "        document.querySelector('#' + key + ' button');\n",
              "      quickchartButtonEl.disabled = true;  // To prevent multiple clicks.\n",
              "      quickchartButtonEl.classList.add('colab-df-spinner');\n",
              "      try {\n",
              "        const charts = await google.colab.kernel.invokeFunction(\n",
              "            'suggestCharts', [key], {});\n",
              "      } catch (error) {\n",
              "        console.error('Error during call to suggestCharts:', error);\n",
              "      }\n",
              "      quickchartButtonEl.classList.remove('colab-df-spinner');\n",
              "      quickchartButtonEl.classList.add('colab-df-quickchart-complete');\n",
              "    }\n",
              "    (() => {\n",
              "      let quickchartButtonEl =\n",
              "        document.querySelector('#df-983e25ea-9858-4cc6-8364-79a9d97bc4f1 button');\n",
              "      quickchartButtonEl.style.display =\n",
              "        google.colab.kernel.accessAllowed ? 'block' : 'none';\n",
              "    })();\n",
              "  </script>\n",
              "</div>\n",
              "\n",
              "  <div id=\"id_7a8731e9-da74-42a4-ad74-cf2f575a4007\">\n",
              "    <style>\n",
              "      .colab-df-generate {\n",
              "        background-color: #E8F0FE;\n",
              "        border: none;\n",
              "        border-radius: 50%;\n",
              "        cursor: pointer;\n",
              "        display: none;\n",
              "        fill: #1967D2;\n",
              "        height: 32px;\n",
              "        padding: 0 0 0 0;\n",
              "        width: 32px;\n",
              "      }\n",
              "\n",
              "      .colab-df-generate:hover {\n",
              "        background-color: #E2EBFA;\n",
              "        box-shadow: 0px 1px 2px rgba(60, 64, 67, 0.3), 0px 1px 3px 1px rgba(60, 64, 67, 0.15);\n",
              "        fill: #174EA6;\n",
              "      }\n",
              "\n",
              "      [theme=dark] .colab-df-generate {\n",
              "        background-color: #3B4455;\n",
              "        fill: #D2E3FC;\n",
              "      }\n",
              "\n",
              "      [theme=dark] .colab-df-generate:hover {\n",
              "        background-color: #434B5C;\n",
              "        box-shadow: 0px 1px 3px 1px rgba(0, 0, 0, 0.15);\n",
              "        filter: drop-shadow(0px 1px 2px rgba(0, 0, 0, 0.3));\n",
              "        fill: #FFFFFF;\n",
              "      }\n",
              "    </style>\n",
              "    <button class=\"colab-df-generate\" onclick=\"generateWithVariable('total')\"\n",
              "            title=\"Generate code using this dataframe.\"\n",
              "            style=\"display:none;\">\n",
              "\n",
              "  <svg xmlns=\"http://www.w3.org/2000/svg\" height=\"24px\"viewBox=\"0 0 24 24\"\n",
              "       width=\"24px\">\n",
              "    <path d=\"M7,19H8.4L18.45,9,17,7.55,7,17.6ZM5,21V16.75L18.45,3.32a2,2,0,0,1,2.83,0l1.4,1.43a1.91,1.91,0,0,1,.58,1.4,1.91,1.91,0,0,1-.58,1.4L9.25,21ZM18.45,9,17,7.55Zm-12,3A5.31,5.31,0,0,0,4.9,8.1,5.31,5.31,0,0,0,1,6.5,5.31,5.31,0,0,0,4.9,4.9,5.31,5.31,0,0,0,6.5,1,5.31,5.31,0,0,0,8.1,4.9,5.31,5.31,0,0,0,12,6.5,5.46,5.46,0,0,0,6.5,12Z\"/>\n",
              "  </svg>\n",
              "    </button>\n",
              "    <script>\n",
              "      (() => {\n",
              "      const buttonEl =\n",
              "        document.querySelector('#id_7a8731e9-da74-42a4-ad74-cf2f575a4007 button.colab-df-generate');\n",
              "      buttonEl.style.display =\n",
              "        google.colab.kernel.accessAllowed ? 'block' : 'none';\n",
              "\n",
              "      buttonEl.onclick = () => {\n",
              "        google.colab.notebook.generateWithVariable('total');\n",
              "      }\n",
              "      })();\n",
              "    </script>\n",
              "  </div>\n",
              "\n",
              "    </div>\n",
              "  </div>\n"
            ],
            "text/plain": [
              "                                                 X  \\\n",
              "0                    안녕하세요 데이터과학을 위한 프로그래밍 수강생 여러분   \n",
              "1                   오늘 슈퍼바이스러닝 다섯번째 시간 시작하도록 하겠습니다   \n",
              "2                            오늘 할 내용은 뉴로이 네트워크 이구요   \n",
              "3                          원래 서포트 벡터 머신이 먼저 나와 있는데   \n",
              "4    순서를 바꿔서 인공신경망, 뉴로이 네트워크에 관련된 내용부터 진행하도록 하겠습니다   \n",
              "..                                             ...   \n",
              "643                       조금 더 빠르게 수렴할 수 수렴시킬 수 있고   \n",
              "644               그리고 성능도 좋을 수 있다 라는 일반적인 이야기가 있고요   \n",
              "645                          그런데 이제 사실 만약에 사이클론 말고   \n",
              "646                             여러분이 뭔가 좀 더 텐서플로우나   \n",
              "647                                  스포츠 같은 거 사용해서   \n",
              "\n",
              "                                                 y  \\\n",
              "0                    안녕하세요 데이터과학을 위한 프로그래밍 수강생 여러분   \n",
              "1                   오늘 슈퍼바이스러닝 다섯번째 시간 시작하도록 하겠습니다   \n",
              "2                             오늘 할 내용은 뉴럴 네트워크 이구요   \n",
              "3                          원래 서포트 벡터 머신이 먼저 나와 있는데   \n",
              "4    순서를 바꿔서 인공신경망, 뉴로이 네트워크에 관련된 내용부터 진행하도록 하겠습니다   \n",
              "..                                             ...   \n",
              "643                       조금 더 빠르게 수렴할 수 수렴시킬 수 있고   \n",
              "644               그리고 성능도 좋을 수 있다 라는 일반적인 이야기가 있고요   \n",
              "645                          그런데 이제 사실 만약에 사이킷런 말고   \n",
              "646                             여러분이 뭔가 좀 더 텐서플로우나   \n",
              "647                                 파이토치 같은 거 사용해서   \n",
              "\n",
              "                                          correction  \n",
              "0                      안녕하세요 데이터과학을 위한 프로그래밍 수강생 여러분  \n",
              "1                     오늘 슈퍼바이스러닝 다섯번째 시간 시작하도록 하겠습니다  \n",
              "2                           오늘 할 내용은 뉴로이 network 이구요  \n",
              "3                            원래 서포트 벡터 머신이 먼저 나와 있는데  \n",
              "4    순서를 바꿔서 인공신경망, 뉴로이 network 관련된 내용부터 진행하도록 하겠습니다  \n",
              "..                                               ...  \n",
              "643                         조금 더 빠르게 수렴할 수 수렴시킬 수 있고  \n",
              "644                 그리고 성능도 좋을 수 있다 라는 일반적인 이야기가 있고요  \n",
              "645                            그런데 이제 사실 만약에 사이킷런 말고  \n",
              "646                               여러분이 뭔가 좀 더 텐서플로우나  \n",
              "647                                    스포츠 같은 거 사용해서  \n",
              "\n",
              "[648 rows x 3 columns]"
            ]
          },
          "execution_count": 276,
          "metadata": {},
          "output_type": "execute_result"
        }
      ],
      "source": [
        "total"
      ]
    }
  ],
  "metadata": {
    "colab": {
      "provenance": []
    },
    "kernelspec": {
      "display_name": "base",
      "language": "python",
      "name": "python3"
    },
    "language_info": {
      "codemirror_mode": {
        "name": "ipython",
        "version": 3
      },
      "file_extension": ".py",
      "mimetype": "text/x-python",
      "name": "python",
      "nbconvert_exporter": "python",
      "pygments_lexer": "ipython3",
      "version": "3.10.9"
    }
  },
  "nbformat": 4,
  "nbformat_minor": 0
}
